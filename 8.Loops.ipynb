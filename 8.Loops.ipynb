{
 "cells": [
  {
   "cell_type": "markdown",
   "metadata": {},
   "source": [
    "## Loops"
   ]
  },
  {
   "cell_type": "markdown",
   "metadata": {},
   "source": [
    "While loop:"
   ]
  },
  {
   "cell_type": "raw",
   "metadata": {},
   "source": [
    "While loop executes until a condition becomes false.\n",
    "Syntax:\n",
    "while condition:\n",
    "     Expression    indentation is important\n"
   ]
  },
  {
   "cell_type": "code",
   "execution_count": 3,
   "metadata": {},
   "outputs": [
    {
     "name": "stdout",
     "output_type": "stream",
     "text": [
      "12.5\n",
      "3.125\n",
      "0.78125\n"
     ]
    }
   ],
   "source": [
    "#Example:\n",
    "#Brief - A program that checks if the error is grater than 1\n",
    "error=50\n",
    "while error>1:\n",
    "    error=error/4\n",
    "    print(error)"
   ]
  },
  {
   "cell_type": "code",
   "execution_count": 5,
   "metadata": {},
   "outputs": [
    {
     "name": "stdout",
     "output_type": "stream",
     "text": [
      "1\n",
      "2\n",
      "3\n"
     ]
    }
   ],
   "source": [
    "#Exercise 1:\n",
    "x=1\n",
    "while x<4:\n",
    "    print(x)\n",
    "    x+=1    #x=x+1 or x+=1, both are valid"
   ]
  },
  {
   "cell_type": "code",
   "execution_count": 7,
   "metadata": {},
   "outputs": [
    {
     "name": "stdout",
     "output_type": "stream",
     "text": [
      "Correcting...\n",
      "7\n",
      "Correcting...\n",
      "6\n",
      "Correcting...\n",
      "5\n",
      "Correcting...\n",
      "4\n",
      "Correcting...\n",
      "3\n",
      "Correcting...\n",
      "2\n",
      "Correcting...\n",
      "1\n",
      "Correcting...\n",
      "0\n"
     ]
    }
   ],
   "source": [
    "#Exercise 2:\n",
    "offset =8\n",
    "while offset !=0:\n",
    "    print(\"Correcting...\")\n",
    "    offset-=1\n",
    "    print(offset)"
   ]
  },
  {
   "cell_type": "code",
   "execution_count": 9,
   "metadata": {},
   "outputs": [
    {
     "name": "stdout",
     "output_type": "stream",
     "text": [
      "Correcting...\n",
      "7\n",
      "Correcting...\n",
      "6\n",
      "Correcting...\n",
      "5\n",
      "Correcting...\n",
      "4\n",
      "Correcting...\n",
      "3\n",
      "Correcting...\n",
      "2\n",
      "Correcting...\n",
      "1\n",
      "Correcting...\n",
      "0\n"
     ]
    }
   ],
   "source": [
    "#Exercise 3:\n",
    "offset =8\n",
    "while offset !=0:\n",
    "    print(\"Correcting...\")\n",
    "    if offset>0:\n",
    "        offset-=1\n",
    "    else:\n",
    "        offset+=1\n",
    "    print(offset)"
   ]
  },
  {
   "cell_type": "markdown",
   "metadata": {},
   "source": [
    "For loop:"
   ]
  },
  {
   "cell_type": "raw",
   "metadata": {},
   "source": [
    "syntax:\n",
    "for var in seq:\n",
    "    expression"
   ]
  },
  {
   "cell_type": "code",
   "execution_count": 10,
   "metadata": {},
   "outputs": [
    {
     "name": "stdout",
     "output_type": "stream",
     "text": [
      "1.73\n",
      "1.68\n",
      "1.71\n",
      "1.89\n"
     ]
    }
   ],
   "source": [
    "#Example 1:\n",
    "fam=[1.73,1.68,1.71,1.89]\n",
    "for h in fam:    #var 'h' takes each element in 'fam' index wise and print it\n",
    "    print(h)"
   ]
  },
  {
   "cell_type": "code",
   "execution_count": 12,
   "metadata": {},
   "outputs": [
    {
     "name": "stdout",
     "output_type": "stream",
     "text": [
      "The index is:  0 The height is:  1.73\n",
      "The index is:  1 The height is:  1.68\n",
      "The index is:  2 The height is:  1.71\n",
      "The index is:  3 The height is:  1.89\n"
     ]
    }
   ],
   "source": [
    "#Example 2:\n",
    "fam=[1.73,1.68,1.71,1.89]\n",
    "for i,h in enumerate(fam):    #enumerate function return index number and value  \n",
    "    print(\"The index is: \",i,\"The height is: \",h)"
   ]
  },
  {
   "cell_type": "code",
   "execution_count": 14,
   "metadata": {},
   "outputs": [
    {
     "name": "stdout",
     "output_type": "stream",
     "text": [
      "S\n",
      "H\n",
      "R\n",
      "I\n",
      "R\n",
      "A\n",
      "M\n"
     ]
    }
   ],
   "source": [
    "#Example 3:\n",
    "#For loop in a string\n",
    "a='shriram'\n",
    "for i in a:\n",
    "    print(i.capitalize())"
   ]
  },
  {
   "cell_type": "code",
   "execution_count": 15,
   "metadata": {},
   "outputs": [
    {
     "name": "stdout",
     "output_type": "stream",
     "text": [
      "Room 0: 11.25\n",
      "Room 1: 18.0\n",
      "Room 2: 20.0\n",
      "Room 3: 10.75\n",
      "Room 4: 9.5\n"
     ]
    }
   ],
   "source": [
    "#Exercise 1:\n",
    "areas=[11.25,18.0,20.0,10.75,9.50]\n",
    "for x,y in enumerate(areas):\n",
    "    print(\"Room \"+str(x)+\": \"+str(y))"
   ]
  },
  {
   "cell_type": "code",
   "execution_count": 16,
   "metadata": {},
   "outputs": [
    {
     "name": "stdout",
     "output_type": "stream",
     "text": [
      "the hallway is 11.25 sqm\n",
      "the kitchen is 18.0 sqm\n",
      "the living room is 20.0 sqm\n",
      "the bedroom is 10.75 sqm\n",
      "the bathroom is 9.5 sqm\n"
     ]
    }
   ],
   "source": [
    "#Exercise 2:\n",
    "house = [[\"hallway\", 11.25], \n",
    "         [\"kitchen\", 18.0], \n",
    "         [\"living room\", 20.0], \n",
    "         [\"bedroom\", 10.75], \n",
    "         [\"bathroom\", 9.50]]\n",
    "         \n",
    "for x,y in house:\n",
    "    print(\"the \"+str(x)+\" is \"+str(y)+\" sqm\")"
   ]
  },
  {
   "cell_type": "code",
   "execution_count": 20,
   "metadata": {},
   "outputs": [
    {
     "ename": "ValueError",
     "evalue": "too many values to unpack (expected 2)",
     "output_type": "error",
     "traceback": [
      "\u001b[1;31m---------------------------------------------------------------------------\u001b[0m",
      "\u001b[1;31mValueError\u001b[0m                                Traceback (most recent call last)",
      "\u001b[1;32m<ipython-input-20-1d9cb17d66a1>\u001b[0m in \u001b[0;36m<module>\u001b[1;34m\u001b[0m\n\u001b[0;32m      1\u001b[0m \u001b[0ma\u001b[0m \u001b[1;33m=\u001b[0m \u001b[1;33m[\u001b[0m\u001b[1;34m'Shriram'\u001b[0m\u001b[1;33m,\u001b[0m \u001b[1;36m25\u001b[0m\u001b[1;33m]\u001b[0m\u001b[1;33m\u001b[0m\u001b[1;33m\u001b[0m\u001b[0m\n\u001b[1;32m----> 2\u001b[1;33m \u001b[1;32mfor\u001b[0m \u001b[0mx\u001b[0m\u001b[1;33m,\u001b[0m \u001b[0my\u001b[0m \u001b[1;32min\u001b[0m \u001b[0ma\u001b[0m\u001b[1;33m:\u001b[0m\u001b[1;33m\u001b[0m\u001b[1;33m\u001b[0m\u001b[0m\n\u001b[0m\u001b[0;32m      3\u001b[0m     \u001b[0mprint\u001b[0m\u001b[1;33m(\u001b[0m\u001b[0mx\u001b[0m\u001b[1;33m,\u001b[0m \u001b[0my\u001b[0m\u001b[1;33m)\u001b[0m    \u001b[1;31m#This works only in a sublist\u001b[0m\u001b[1;33m\u001b[0m\u001b[1;33m\u001b[0m\u001b[0m\n",
      "\u001b[1;31mValueError\u001b[0m: too many values to unpack (expected 2)"
     ]
    }
   ],
   "source": [
    "a = ['Shriram', 25]\n",
    "for x, y in a:\n",
    "    print(x, y)    #This works only in a sublist"
   ]
  },
  {
   "cell_type": "code",
   "execution_count": 18,
   "metadata": {},
   "outputs": [
    {
     "name": "stdout",
     "output_type": "stream",
     "text": [
      "Shriram 25\n"
     ]
    }
   ],
   "source": [
    "a = [['Shriram', 25]]\n",
    "for x, y in a:\n",
    "    print(x, y)    #This is a sublist"
   ]
  },
  {
   "cell_type": "markdown",
   "metadata": {},
   "source": [
    "For loop in dictionary and numpy:"
   ]
  },
  {
   "cell_type": "code",
   "execution_count": 21,
   "metadata": {},
   "outputs": [
    {
     "ename": "ValueError",
     "evalue": "too many values to unpack (expected 2)",
     "output_type": "error",
     "traceback": [
      "\u001b[1;31m---------------------------------------------------------------------------\u001b[0m",
      "\u001b[1;31mValueError\u001b[0m                                Traceback (most recent call last)",
      "\u001b[1;32m<ipython-input-21-661541ff107b>\u001b[0m in \u001b[0;36m<module>\u001b[1;34m\u001b[0m\n\u001b[0;32m      1\u001b[0m \u001b[1;31m#For loop in a dictionary\u001b[0m\u001b[1;33m\u001b[0m\u001b[1;33m\u001b[0m\u001b[1;33m\u001b[0m\u001b[0m\n\u001b[0;32m      2\u001b[0m \u001b[0mworld\u001b[0m\u001b[1;33m=\u001b[0m\u001b[1;33m{\u001b[0m\u001b[1;34m\"afghanistan\"\u001b[0m\u001b[1;33m:\u001b[0m\u001b[1;36m30.55\u001b[0m\u001b[1;33m,\u001b[0m\u001b[1;34m\"albania\"\u001b[0m\u001b[1;33m:\u001b[0m\u001b[1;36m2.77\u001b[0m\u001b[1;33m,\u001b[0m\u001b[1;34m\"algeria\"\u001b[0m\u001b[1;33m:\u001b[0m\u001b[1;36m39.21\u001b[0m\u001b[1;33m}\u001b[0m\u001b[1;33m\u001b[0m\u001b[1;33m\u001b[0m\u001b[0m\n\u001b[1;32m----> 3\u001b[1;33m \u001b[1;32mfor\u001b[0m \u001b[0mkey\u001b[0m\u001b[1;33m,\u001b[0m\u001b[0mvalues\u001b[0m \u001b[1;32min\u001b[0m \u001b[0mworld\u001b[0m\u001b[1;33m:\u001b[0m\u001b[1;33m\u001b[0m\u001b[1;33m\u001b[0m\u001b[0m\n\u001b[0m\u001b[0;32m      4\u001b[0m     \u001b[0mprint\u001b[0m\u001b[1;33m(\u001b[0m\u001b[0mkey\u001b[0m\u001b[1;33m,\u001b[0m\u001b[0mvalues\u001b[0m\u001b[1;33m)\u001b[0m\u001b[1;33m\u001b[0m\u001b[1;33m\u001b[0m\u001b[0m\n",
      "\u001b[1;31mValueError\u001b[0m: too many values to unpack (expected 2)"
     ]
    }
   ],
   "source": [
    "#For loop in a dictionary\n",
    "world={\"afghanistan\":30.55,\"albania\":2.77,\"algeria\":39.21}\n",
    "for key,values in world:    #Calling two variables in a for loop in dict is not possible\n",
    "    print(key,values)    "
   ]
  },
  {
   "cell_type": "code",
   "execution_count": 22,
   "metadata": {},
   "outputs": [
    {
     "name": "stdout",
     "output_type": "stream",
     "text": [
      "afghanistan 30.55\n",
      "albania 2.77\n",
      "algeria 39.21\n"
     ]
    }
   ],
   "source": [
    "#To achieve that we need to used items() method\n",
    "world={\"afghanistan\":30.55,\"albania\":2.77,\"algeria\":39.21}\n",
    "for key,values in world.items():    \n",
    "    print(key,values)  "
   ]
  },
  {
   "cell_type": "code",
   "execution_count": 25,
   "metadata": {},
   "outputs": [
    {
     "name": "stdout",
     "output_type": "stream",
     "text": [
      "[1.73 1.68 1.71 1.89 1.79]\n",
      "[65.4 59.2 63.6 88.4 68.7]\n"
     ]
    }
   ],
   "source": [
    "import numpy as np\n",
    "np_height=np.array([1.73,1.68,1.71,1.89,1.79])\n",
    "np_weight=np.array([65.4,59.2,63.6,88.4,68.7])\n",
    "meas=np.array([np_height,np_weight])\n",
    "for val in meas:\n",
    "    print(val)"
   ]
  },
  {
   "cell_type": "code",
   "execution_count": 27,
   "metadata": {},
   "outputs": [
    {
     "name": "stdout",
     "output_type": "stream",
     "text": [
      "1.73\n",
      "1.68\n",
      "1.71\n",
      "1.89\n",
      "1.79\n",
      "65.4\n",
      "59.2\n",
      "63.6\n",
      "88.4\n",
      "68.7\n"
     ]
    }
   ],
   "source": [
    "import numpy as np\n",
    "np_height=np.array([1.73,1.68,1.71,1.89,1.79])\n",
    "np_weight=np.array([65.4,59.2,63.6,88.4,68.7])\n",
    "meas=np.array([np_height,np_weight])\n",
    "for val in np.nditer(meas):    #We are using a function called nditer from numpy package to print elemets sequentially\n",
    "    print(val)"
   ]
  },
  {
   "cell_type": "code",
   "execution_count": 28,
   "metadata": {},
   "outputs": [
    {
     "name": "stdout",
     "output_type": "stream",
     "text": [
      "the capital of spain is madrid\n",
      "the capital of france is paris\n",
      "the capital of germany is berlin\n",
      "the capital of norway is oslo\n",
      "the capital of italy is rome\n",
      "the capital of poland is warsaw\n",
      "the capital of austria is vienna\n"
     ]
    }
   ],
   "source": [
    "#Exercise 1:\n",
    "europe = {'spain':'madrid', 'france':'paris', 'germany':'berlin',\n",
    "          'norway':'oslo', 'italy':'rome', 'poland':'warsaw', 'austria':'vienna' }\n",
    "          \n",
    "for x,y in europe.items():\n",
    "    print(\"the capital of \"+x+\" is \"+y)"
   ]
  },
  {
   "cell_type": "markdown",
   "metadata": {},
   "source": [
    "Looping in Pandas DataFrame:"
   ]
  },
  {
   "cell_type": "code",
   "execution_count": 55,
   "metadata": {},
   "outputs": [],
   "source": [
    "import pandas as pd\n",
    "brics=pd.read_csv(\"C:\\Python Files\\Source files/brics.csv\",index_col=0)\n"
   ]
  },
  {
   "cell_type": "code",
   "execution_count": 62,
   "metadata": {},
   "outputs": [
    {
     "name": "stdout",
     "output_type": "stream",
     "text": [
      "country\n",
      "capital\n",
      "area\n",
      "population\n"
     ]
    }
   ],
   "source": [
    "import pandas as pd\n",
    "brics=pd.read_csv(\"C:\\Python Files\\Source files/brics.csv\",index_col=0)\n",
    "for val in brics:    #A simple for loop will only print label in a Pandas DataFrame\n",
    "    print(val)  "
   ]
  },
  {
   "cell_type": "code",
   "execution_count": 63,
   "metadata": {},
   "outputs": [
    {
     "name": "stdout",
     "output_type": "stream",
     "text": [
      "BR\n",
      "country         Brazil\n",
      "capital       Barsilia\n",
      "area             8.516\n",
      "population       200.4\n",
      "Name: BR, dtype: object\n",
      "RU\n",
      "country       Russia\n",
      "capital       Moscow\n",
      "area            17.1\n",
      "population     143.5\n",
      "Name: RU, dtype: object\n",
      "IN\n",
      "country           India\n",
      "capital       New Delhi\n",
      "area              3.286\n",
      "population         1252\n",
      "Name: IN, dtype: object\n",
      "CH\n",
      "country         China\n",
      "capital       Beijing\n",
      "area            9.597\n",
      "population       1357\n",
      "Name: CH, dtype: object\n",
      "SA\n",
      "country       Sout Afrrica\n",
      "capital           Pretoria\n",
      "area                 1.221\n",
      "population           52.98\n",
      "Name: SA, dtype: object\n"
     ]
    }
   ],
   "source": [
    "import pandas as pd\n",
    "brics=pd.read_csv(\"C:\\Python Files\\Source files/brics.csv\",index_col=0)\n",
    "for lab,row in brics.iterrows():\n",
    "    print(lab)    #lab is BR\n",
    "    print(row)    #row is the entire pandas series"
   ]
  },
  {
   "cell_type": "code",
   "execution_count": 64,
   "metadata": {},
   "outputs": [
    {
     "name": "stdout",
     "output_type": "stream",
     "text": [
      "BR: Barsilia\n",
      "RU: Moscow\n",
      "IN: New Delhi\n",
      "CH: Beijing\n",
      "SA: Pretoria\n"
     ]
    }
   ],
   "source": [
    "#Subsetting in Pandas using for loop\n",
    "import pandas as pd\n",
    "brics=pd.read_csv(\"C:\\Python Files\\Source files/brics.csv\",index_col=0)\n",
    "for lab,row in brics.iterrows():\n",
    "    print(lab +\": \"+row[\"capital\"])"
   ]
  },
  {
   "cell_type": "code",
   "execution_count": 65,
   "metadata": {},
   "outputs": [
    {
     "name": "stdout",
     "output_type": "stream",
     "text": [
      "         country    capital    area  population  Name_length\n",
      "BR        Brazil   Barsilia   8.516      200.40          6.0\n",
      "RU        Russia     Moscow  17.100      143.50          6.0\n",
      "IN         India  New Delhi   3.286     1252.00          5.0\n",
      "CH         China    Beijing   9.597     1357.00          5.0\n",
      "SA  Sout Afrrica   Pretoria   1.221       52.98         12.0\n"
     ]
    }
   ],
   "source": [
    "#Adding a new column Name_length with lenght of country field\n",
    "import pandas as pd\n",
    "brics=pd.read_csv(\"C:\\Python Files\\Source files/brics.csv\",index_col=0)\n",
    "for lab,row in brics.iterrows():\n",
    "    brics.loc[lab,'Name_length']=len(row['country'])\n",
    "print(brics)"
   ]
  },
  {
   "cell_type": "code",
   "execution_count": 67,
   "metadata": {},
   "outputs": [
    {
     "name": "stdout",
     "output_type": "stream",
     "text": [
      "         country    capital    area  population  Name_length\n",
      "BR        Brazil   Barsilia   8.516      200.40            6\n",
      "RU        Russia     Moscow  17.100      143.50            6\n",
      "IN         India  New Delhi   3.286     1252.00            5\n",
      "CH         China    Beijing   9.597     1357.00            5\n",
      "SA  Sout Afrrica   Pretoria   1.221       52.98           12\n"
     ]
    }
   ],
   "source": [
    "#Achieving the same using alternate approach\n",
    "import pandas as pd\n",
    "brics=pd.read_csv(\"C:\\Python Files\\Source files/brics.csv\",index_col=0)\n",
    "brics['Name_length']=brics['country'].apply(len)\n",
    "print(brics)"
   ]
  },
  {
   "cell_type": "code",
   "execution_count": 68,
   "metadata": {},
   "outputs": [
    {
     "name": "stdout",
     "output_type": "stream",
     "text": [
      "         country    capital    area  population  Name_length\n",
      "BR        Brazil   Barsilia   8.516      200.40            5\n",
      "RU        Russia     Moscow  17.100      143.50            5\n",
      "IN         India  New Delhi   3.286     1252.00            5\n",
      "CH         China    Beijing   9.597     1357.00            5\n",
      "SA  Sout Afrrica   Pretoria   1.221       52.98            5\n"
     ]
    }
   ],
   "source": [
    "import pandas as pd\n",
    "brics=pd.read_csv(\"C:\\Python Files\\Source files/brics.csv\",index_col=0)\n",
    "for lab,row in brics.iterrows():\n",
    "    brics['Name_length']=len(brics['country'])\n",
    "print(brics)"
   ]
  },
  {
   "cell_type": "code",
   "execution_count": 69,
   "metadata": {},
   "outputs": [
    {
     "name": "stdout",
     "output_type": "stream",
     "text": [
      "         country    capital    area  population       COUNTRY\n",
      "BR        Brazil   Barsilia   8.516      200.40        BRAZIL\n",
      "RU        Russia     Moscow  17.100      143.50        RUSSIA\n",
      "IN         India  New Delhi   3.286     1252.00         INDIA\n",
      "CH         China    Beijing   9.597     1357.00         CHINA\n",
      "SA  Sout Afrrica   Pretoria   1.221       52.98  SOUT AFRRICA\n"
     ]
    }
   ],
   "source": [
    "#Adding a new column COUNTRY that converts country name in upper case\n",
    "import pandas as pd\n",
    "brics=pd.read_csv(\"C:\\Python Files\\Source files/brics.csv\",index_col=0)\n",
    "for lab,row in brics.iterrows():\n",
    "    brics.loc[lab,'COUNTRY']=row['country'].upper()\n",
    "print(brics)"
   ]
  },
  {
   "cell_type": "code",
   "execution_count": 73,
   "metadata": {},
   "outputs": [
    {
     "name": "stdout",
     "output_type": "stream",
     "text": [
      "         country    capital    area  population       COUNTRY\n",
      "BR        Brazil   Barsilia   8.516      200.40        BRAZIL\n",
      "RU        Russia     Moscow  17.100      143.50        RUSSIA\n",
      "IN         India  New Delhi   3.286     1252.00         INDIA\n",
      "CH         China    Beijing   9.597     1357.00         CHINA\n",
      "SA  Sout Afrrica   Pretoria   1.221       52.98  SOUT AFRRICA\n"
     ]
    }
   ],
   "source": [
    "#Adding a new column COUNTRY that converts country name in upper case\n",
    "#Alternative approach\n",
    "import pandas as pd\n",
    "brics=pd.read_csv(\"C:\\Python Files\\Source files/brics.csv\",index_col=0)\n",
    "brics['COUNTRY']=brics['country'].apply(str.upper)\n",
    "print(brics)"
   ]
  },
  {
   "cell_type": "code",
   "execution_count": null,
   "metadata": {},
   "outputs": [],
   "source": []
  }
 ],
 "metadata": {
  "kernelspec": {
   "display_name": "Python 3",
   "language": "python",
   "name": "python3"
  },
  "language_info": {
   "codemirror_mode": {
    "name": "ipython",
    "version": 3
   },
   "file_extension": ".py",
   "mimetype": "text/x-python",
   "name": "python",
   "nbconvert_exporter": "python",
   "pygments_lexer": "ipython3",
   "version": "3.8.3"
  }
 },
 "nbformat": 4,
 "nbformat_minor": 4
}
