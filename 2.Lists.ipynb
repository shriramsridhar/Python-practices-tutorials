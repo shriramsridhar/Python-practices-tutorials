{
 "cells": [
  {
   "cell_type": "markdown",
   "metadata": {},
   "source": [
    "## List"
   ]
  },
  {
   "cell_type": "raw",
   "metadata": {},
   "source": [
    "List is a collection of values."
   ]
  },
  {
   "cell_type": "code",
   "execution_count": 7,
   "metadata": {},
   "outputs": [
    {
     "name": "stdout",
     "output_type": "stream",
     "text": [
      "<class 'list'>\n",
      "<class 'list'>\n",
      "<class 'list'>\n",
      "<class 'list'>\n"
     ]
    }
   ],
   "source": [
    "x=[1,2,3,4]    #This is a list\n",
    "print(type(x))\n",
    "#List creation ways\n",
    "a=[1,2,3,4]\n",
    "b=[[1,2,3],[4,5,6]]\n",
    "c=[1+2,x*3,'Ram']\n",
    "print(type(a))\n",
    "print(type(b))\n",
    "print(type(c))"
   ]
  },
  {
   "cell_type": "code",
   "execution_count": 8,
   "metadata": {},
   "outputs": [
    {
     "name": "stdout",
     "output_type": "stream",
     "text": [
      "['Hall', 11.5, 'Kitchen', 18, 'Living', 20, 'Bedroom', 10.75, 'Bathroom', 9.5]\n",
      "\n",
      "[['Hall', 11.5], ['Kitchen', 18], ['Living', 20], ['Bedroom', 10.75], ['Bathroom', 9.5]]\n"
     ]
    }
   ],
   "source": [
    "x=[\"a\",1,\"b\",2]    #List can hold values of different data types \n",
    "y=[[\"a\",1],[\"b\",2]]    #List can also have Sublists\n",
    "\n",
    "#Exrercise\n",
    "hall=11.5\n",
    "kit=18\n",
    "liv=20\n",
    "bed=10.75\n",
    "bath=9.50\n",
    "area=[\"Hall\",hall,\"Kitchen\",kit,\"Living\",liv,\"Bedroom\",bed,\"Bathroom\",bath]    #Converting variables to a list\n",
    "print(area)\n",
    "print()\n",
    "house=[[\"Hall\",hall],\n",
    "      [\"Kitchen\",kit],\n",
    "      [\"Living\",liv],\n",
    "      [\"Bedroom\",bed],\n",
    "      [\"Bathroom\",bath]]\n",
    "print(house)"
   ]
  },
  {
   "cell_type": "markdown",
   "metadata": {},
   "source": [
    "## Index"
   ]
  },
  {
   "cell_type": "raw",
   "metadata": {},
   "source": [
    "Values in list is indexed from 0,1,...n-1 (Here n referes to the total number of values inside a list)"
   ]
  },
  {
   "cell_type": "code",
   "execution_count": 9,
   "metadata": {},
   "outputs": [
    {
     "name": "stdout",
     "output_type": "stream",
     "text": [
      "1\n",
      "2\n",
      "4\n"
     ]
    }
   ],
   "source": [
    "x=[1,2,3,4]    #Where 1 belongs to the index of 0, 2 to the index 1, 3 to the index 2, 4 to the index 3 or -1(-1 return last value in a list)\n",
    "y=x[0]    #Calling value in the index 0\n",
    "z=x[1]    #Calling value in the index 1\n",
    "print(y)\n",
    "print(z)\n",
    "print(x[-1])    #Printing last element in a list"
   ]
  },
  {
   "cell_type": "markdown",
   "metadata": {},
   "source": [
    "## List addition"
   ]
  },
  {
   "cell_type": "code",
   "execution_count": 12,
   "metadata": {},
   "outputs": [
    {
     "name": "stdout",
     "output_type": "stream",
     "text": [
      "[1, 2, 3, 4, 5, 6, 7, 8]\n",
      "6\n"
     ]
    }
   ],
   "source": [
    "x=[1,2,3,4]    #While adding, the values in the second list are appended inside the first list\n",
    "y=[5,6,7,8]\n",
    "print(x+y)\n",
    "print(x[0]+y[0])    #Adds 1 from x and 5 from y"
   ]
  },
  {
   "cell_type": "markdown",
   "metadata": {},
   "source": [
    "## Slicing"
   ]
  },
  {
   "cell_type": "code",
   "execution_count": 15,
   "metadata": {},
   "outputs": [
    {
     "name": "stdout",
     "output_type": "stream",
     "text": [
      "['b', 'c', 'd']\n",
      "['a', 'b', 'c']\n",
      "['c', 'd', 'e', 'f']\n",
      "g\n",
      "['g', 'h']\n"
     ]
    }
   ],
   "source": [
    "x=['a','b','c','d','e','f']\n",
    "y=x[1:4]    #Slices the list starting from index 1 till 4, the end index value is always excluded here.\n",
    "print(y)\n",
    "print(x[:3]) #starts from index 0\n",
    "print(x[2:]) #Starts from index 2 till the last index\n",
    "#Slicing in a Sublist\n",
    "z=[[\"a\",\"b\",\"c\"],\n",
    "  [\"d\",\"e\",\"f\"],\n",
    "  [\"g\",\"h\",\"i\"]]\n",
    "print(z[2][0])\n",
    "print(z[2][:2])"
   ]
  },
  {
   "cell_type": "markdown",
   "metadata": {},
   "source": [
    " ## List Manipulation"
   ]
  },
  {
   "cell_type": "raw",
   "metadata": {},
   "source": [
    "Updation"
   ]
  },
  {
   "cell_type": "code",
   "execution_count": 17,
   "metadata": {},
   "outputs": [
    {
     "name": "stdout",
     "output_type": "stream",
     "text": [
      "['a+', 'b', 'c', 'd']\n",
      "['a-', 'b-', 'c', 'd']\n",
      "['a-', 'b-', 'c', 'd', 'e', 'f']\n"
     ]
    }
   ],
   "source": [
    "x=['a','b','c','d']\n",
    "x[0]='a+'    #Changing/updating the value in index 0\n",
    "print(x)\n",
    "x[0:2]=['a-','b-']\n",
    "print(x)\n",
    "print(x+['e','f'])"
   ]
  },
  {
   "cell_type": "raw",
   "metadata": {},
   "source": [
    "Deletion"
   ]
  },
  {
   "cell_type": "code",
   "execution_count": 13,
   "metadata": {},
   "outputs": [
    {
     "name": "stdout",
     "output_type": "stream",
     "text": [
      "['a+', 'd']\n"
     ]
    }
   ],
   "source": [
    "del(x[1])    #Deleting the value in index 1\n",
    "print(x)"
   ]
  },
  {
   "cell_type": "code",
   "execution_count": 7,
   "metadata": {},
   "outputs": [
    {
     "ename": "TypeError",
     "evalue": "can only concatenate list (not \"int\") to list",
     "output_type": "error",
     "traceback": [
      "\u001b[1;31m---------------------------------------------------------------------------\u001b[0m",
      "\u001b[1;31mTypeError\u001b[0m                                 Traceback (most recent call last)",
      "\u001b[1;32m<ipython-input-7-6cd89be3a6f9>\u001b[0m in \u001b[0;36m<module>\u001b[1;34m\u001b[0m\n\u001b[0;32m      1\u001b[0m \u001b[0ma\u001b[0m\u001b[1;33m=\u001b[0m\u001b[1;33m[\u001b[0m\u001b[1;36m1\u001b[0m\u001b[1;33m,\u001b[0m\u001b[1;36m2\u001b[0m\u001b[1;33m,\u001b[0m\u001b[1;36m3\u001b[0m\u001b[1;33m]\u001b[0m\u001b[1;33m\u001b[0m\u001b[1;33m\u001b[0m\u001b[0m\n\u001b[0;32m      2\u001b[0m \u001b[0mb\u001b[0m\u001b[1;33m=\u001b[0m\u001b[1;36m7\u001b[0m\u001b[1;33m\u001b[0m\u001b[1;33m\u001b[0m\u001b[0m\n\u001b[1;32m----> 3\u001b[1;33m \u001b[0mprint\u001b[0m\u001b[1;33m(\u001b[0m\u001b[0ma\u001b[0m\u001b[1;33m+\u001b[0m\u001b[0mb\u001b[0m\u001b[1;33m)\u001b[0m    \u001b[1;31m#Python is not a type safe programming language\u001b[0m\u001b[1;33m\u001b[0m\u001b[1;33m\u001b[0m\u001b[0m\n\u001b[0m",
      "\u001b[1;31mTypeError\u001b[0m: can only concatenate list (not \"int\") to list"
     ]
    }
   ],
   "source": [
    "a=[1,2,3]\n",
    "b=7\n",
    "print(a+b)    #Python is not a type safe programming language\n"
   ]
  },
  {
   "cell_type": "code",
   "execution_count": 18,
   "metadata": {},
   "outputs": [
    {
     "name": "stdout",
     "output_type": "stream",
     "text": [
      "['a', 'b', 'c']\n",
      "['apple', 'b', 'c']\n",
      "['apple', 'b', 'c']\n"
     ]
    }
   ],
   "source": [
    "x=['a','b','c']\n",
    "print(x)\n",
    "y=x    #Copying x lists into var y\n",
    "y[0]='apple'    #updating 'y'\n",
    "print(y)\n",
    "print(x)    #var x also gets affected, because '=' in python copies the reference of the list"
   ]
  },
  {
   "cell_type": "code",
   "execution_count": 19,
   "metadata": {},
   "outputs": [
    {
     "name": "stdout",
     "output_type": "stream",
     "text": [
      "['a', 'b', 'c']\n",
      "['apple', 'b', 'c']\n",
      "['a', 'b', 'c']\n"
     ]
    }
   ],
   "source": [
    "x=['a','b','c']\n",
    "print(x)\n",
    "y=list(x)    #Creates a seperate list for y with values from var x. We can also achieve this by using y =x[:]  \n",
    "y[0]='apple'    \n",
    "print(y)\n",
    "print(x)    #When y is affected, x is not influenced   "
   ]
  },
  {
   "cell_type": "code",
   "execution_count": null,
   "metadata": {},
   "outputs": [],
   "source": []
  }
 ],
 "metadata": {
  "kernelspec": {
   "display_name": "Python 3",
   "language": "python",
   "name": "python3"
  },
  "language_info": {
   "codemirror_mode": {
    "name": "ipython",
    "version": 3
   },
   "file_extension": ".py",
   "mimetype": "text/x-python",
   "name": "python",
   "nbconvert_exporter": "python",
   "pygments_lexer": "ipython3",
   "version": "3.8.3"
  }
 },
 "nbformat": 4,
 "nbformat_minor": 4
}
